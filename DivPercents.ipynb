{
  "nbformat": 4,
  "nbformat_minor": 0,
  "metadata": {
    "colab": {
      "provenance": [],
      "authorship_tag": "ABX9TyOQWx1H1I10aY1NBlZrfTtk",
      "include_colab_link": true
    },
    "kernelspec": {
      "name": "python3",
      "display_name": "Python 3"
    },
    "language_info": {
      "name": "python"
    }
  },
  "cells": [
    {
      "cell_type": "markdown",
      "metadata": {
        "id": "view-in-github",
        "colab_type": "text"
      },
      "source": [
        "<a href=\"https://colab.research.google.com/github/kate-wolfe/DEI/blob/main/DivPercents.ipynb\" target=\"_parent\"><img src=\"https://colab.research.google.com/assets/colab-badge.svg\" alt=\"Open In Colab\"/></a>"
      ]
    },
    {
      "cell_type": "code",
      "metadata": {
        "id": "zULIJNwPc3ap",
        "colab": {
          "base_uri": "https://localhost:8080/"
        },
        "outputId": "88d74cbb-cd8f-4a29-a956-9ed39da550c1"
      },
      "source": [
        "from google.colab import drive\n",
        "drive.mount('/content/drive')"
      ],
      "execution_count": null,
      "outputs": [
        {
          "output_type": "stream",
          "name": "stdout",
          "text": [
            "Drive already mounted at /content/drive; to attempt to forcibly remount, call drive.mount(\"/content/drive\", force_remount=True).\n"
          ]
        }
      ]
    },
    {
      "cell_type": "code",
      "source": [
        "import pandas as pd\n",
        "import itertools"
      ],
      "metadata": {
        "id": "7DvOhYnrDt2R"
      },
      "execution_count": null,
      "outputs": []
    },
    {
      "cell_type": "code",
      "source": [
        "dfAggs = pd.read_csv('/content/drive/MyDrive/Div Audit 11-10-22/aggregates_11-10-22.csv', usecols=['Location', 'Audience', 'Genre', 'Format', 'Category', 'Count'])"
      ],
      "metadata": {
        "id": "dViDuvzQDvMr"
      },
      "execution_count": null,
      "outputs": []
    },
    {
      "cell_type": "code",
      "source": [
        "cols = ['Location', 'Audience', 'Genre', 'Format', 'Category']\n",
        "\n",
        "uniqueList = []\n",
        "\n",
        "for col in cols:\n",
        "  uniqueList.append(dfAggs[col].unique())\n",
        "\n",
        "combos = list(itertools.product(*uniqueList))"
      ],
      "metadata": {
        "id": "EN_UHFLZE6n1"
      },
      "execution_count": null,
      "outputs": []
    },
    {
      "cell_type": "code",
      "source": [
        "dfBlank = pd.DataFrame(combos, columns = cols)\n",
        "\n",
        "dfFull = pd.merge(dfBlank, dfAggs, how='left', on=cols)\n",
        "\n",
        "dfFull['Count'] = dfFull['Count'].fillna(0)"
      ],
      "metadata": {
        "id": "ZyfK2EK0M61k"
      },
      "execution_count": null,
      "outputs": []
    },
    {
      "cell_type": "code",
      "source": [
        "branchList = ['Boudreau','Collins','CSQ','Main',\"O'Connell\",\"O'Neill\",'Valente','Outreach']\n",
        "audienceList = ['Adult','Juv','YA']\n",
        "genreList = ['Fiction', 'Nonfiction']\n",
        "formatList = ['Audiobook','Book','Movie']"
      ],
      "metadata": {
        "id": "OAp_jvUUR0Yr"
      },
      "execution_count": null,
      "outputs": []
    },
    {
      "cell_type": "code",
      "source": [
        "# Addiction\n",
        "\n",
        "dfAddiction = dfFull[dfFull['Category'].str.contains(\"Addiction\")]\n",
        "\n",
        "addictList = dfAddiction['Category'].unique()\n",
        "\n",
        "newAddList = []\n",
        "\n",
        "for b in branchList:\n",
        "  df1 = dfAddiction.groupby('Location').get_group(b)[['Audience','Genre','Format','Category','Count']]\n",
        "  for a in audienceList:\n",
        "    df2 = df1.groupby('Audience').get_group(a)[['Genre','Format','Category','Count']]\n",
        "    for g in genreList:\n",
        "      df3 = df2.groupby('Genre').get_group(g)[['Format','Category','Count']]\n",
        "      for f in formatList:\n",
        "        df4 = df3.groupby('Format').get_group(f)[['Category','Count']]\n",
        "        tot = df4.loc[df4['Category'] == 'Unique Addiction', 'Count'].item()\n",
        "        if tot == 0:\n",
        "          tot = 1\n",
        "        for c in addictList:\n",
        "          df5 = df4.groupby('Category').get_group(c)['Count']\n",
        "          x = df5.iloc[0]\n",
        "          r = [b,a,g,f,c,x,(x/tot)]\n",
        "          newAddList.append(r)\n",
        "\n",
        "dfAddictionFinal = pd.DataFrame(newAddList, columns = ['Location', 'Audience', 'Genre', 'Format', 'Category', 'Count','Percent'])"
      ],
      "metadata": {
        "id": "Htoo-9Q4OMxI"
      },
      "execution_count": null,
      "outputs": []
    },
    {
      "cell_type": "code",
      "source": [
        "# Culture\n",
        "\n",
        "dfCulture = dfFull[dfFull['Category'].str.contains(\"Culture\")]\n",
        "\n",
        "cultureList = dfCulture['Category'].unique()\n",
        "\n",
        "newCulList = []\n",
        "\n",
        "for b in branchList:\n",
        "  df1 = dfCulture.groupby('Location').get_group(b)[['Audience','Genre','Format','Category','Count']]\n",
        "  for a in audienceList:\n",
        "    df2 = df1.groupby('Audience').get_group(a)[['Genre','Format','Category','Count']]\n",
        "    for g in genreList:\n",
        "      df3 = df2.groupby('Genre').get_group(g)[['Format','Category','Count']]\n",
        "      for f in formatList:\n",
        "        df4 = df3.groupby('Format').get_group(f)[['Category','Count']]\n",
        "        tot = df4.loc[df4['Category'] == 'Unique Culture', 'Count'].item()\n",
        "        if tot == 0:\n",
        "          tot = 1\n",
        "        for c in cultureList:\n",
        "          df5 = df4.groupby('Category').get_group(c)['Count']\n",
        "          x = df5.iloc[0]\n",
        "          r = [b,a,g,f,c,x,(x/tot)]\n",
        "          newCulList.append(r)\n",
        "\n",
        "dfCultureFinal = pd.DataFrame(newCulList, columns = ['Location', 'Audience', 'Genre', 'Format', 'Category', 'Count','Percent'])"
      ],
      "metadata": {
        "id": "DyXtBFpiU_Y-"
      },
      "execution_count": null,
      "outputs": []
    },
    {
      "cell_type": "code",
      "source": [
        "# Disability\n",
        "\n",
        "dfDisability = dfFull[dfFull['Category'].str.contains(\"Disability\")]\n",
        "\n",
        "disList = dfDisability['Category'].unique()\n",
        "\n",
        "newDisList = []\n",
        "\n",
        "for b in branchList:\n",
        "  df1 = dfDisability.groupby('Location').get_group(b)[['Audience','Genre','Format','Category','Count']]\n",
        "  for a in audienceList:\n",
        "    df2 = df1.groupby('Audience').get_group(a)[['Genre','Format','Category','Count']]\n",
        "    for g in genreList:\n",
        "      df3 = df2.groupby('Genre').get_group(g)[['Format','Category','Count']]\n",
        "      for f in formatList:\n",
        "        df4 = df3.groupby('Format').get_group(f)[['Category','Count']]\n",
        "        tot = df4.loc[df4['Category'] == 'Unique Disability', 'Count'].item()\n",
        "        if tot == 0:\n",
        "          tot = 1\n",
        "        for c in disList:\n",
        "          df5 = df4.groupby('Category').get_group(c)['Count']\n",
        "          x = df5.iloc[0]\n",
        "          r = [b,a,g,f,c,x,(x/tot)]\n",
        "          newDisList.append(r)\n",
        "\n",
        "dfDisabilityFinal = pd.DataFrame(newDisList, columns = ['Location', 'Audience', 'Genre', 'Format', 'Category', 'Count','Percent'])"
      ],
      "metadata": {
        "id": "YJOgF4yCXtwf"
      },
      "execution_count": null,
      "outputs": []
    },
    {
      "cell_type": "code",
      "source": [
        "# Equity\n",
        "\n",
        "dfEquity = dfFull[dfFull['Category'].str.contains(\"Equity\")]\n",
        "\n",
        "equList = dfEquity['Category'].unique()\n",
        "\n",
        "newEquList = []\n",
        "\n",
        "for b in branchList:\n",
        "  df1 = dfEquity.groupby('Location').get_group(b)[['Audience','Genre','Format','Category','Count']]\n",
        "  for a in audienceList:\n",
        "    df2 = df1.groupby('Audience').get_group(a)[['Genre','Format','Category','Count']]\n",
        "    for g in genreList:\n",
        "      df3 = df2.groupby('Genre').get_group(g)[['Format','Category','Count']]\n",
        "      for f in formatList:\n",
        "        df4 = df3.groupby('Format').get_group(f)[['Category','Count']]\n",
        "        tot = df4.loc[df4['Category'] == 'Unique Equity', 'Count'].item()\n",
        "        if tot == 0:\n",
        "          tot = 1\n",
        "        for c in equList:\n",
        "          df5 = df4.groupby('Category').get_group(c)['Count']\n",
        "          x = df5.iloc[0]\n",
        "          r = [b,a,g,f,c,x,(x/tot)]\n",
        "          newEquList.append(r)\n",
        "\n",
        "dfEquityFinal = pd.DataFrame(newEquList, columns = ['Location', 'Audience', 'Genre', 'Format', 'Category', 'Count','Percent'])"
      ],
      "metadata": {
        "id": "TzAa6VZVk7Pq"
      },
      "execution_count": null,
      "outputs": []
    },
    {
      "cell_type": "code",
      "source": [
        "# LGBT\n",
        "\n",
        "dfLGBT = dfFull[dfFull['Category'].str.contains(\"LGBT\")]\n",
        "\n",
        "lgbtList = dfLGBT['Category'].unique()\n",
        "\n",
        "newLGBTList = []\n",
        "\n",
        "for b in branchList:\n",
        "  df1 = dfLGBT.groupby('Location').get_group(b)[['Audience','Genre','Format','Category','Count']]\n",
        "  for a in audienceList:\n",
        "    df2 = df1.groupby('Audience').get_group(a)[['Genre','Format','Category','Count']]\n",
        "    for g in genreList:\n",
        "      df3 = df2.groupby('Genre').get_group(g)[['Format','Category','Count']]\n",
        "      for f in formatList:\n",
        "        df4 = df3.groupby('Format').get_group(f)[['Category','Count']]\n",
        "        tot = df4.loc[df4['Category'] == 'Unique LGBT', 'Count'].item()\n",
        "        if tot == 0:\n",
        "          tot = 1\n",
        "        for c in lgbtList:\n",
        "          df5 = df4.groupby('Category').get_group(c)['Count']\n",
        "          x = df5.iloc[0]\n",
        "          r = [b,a,g,f,c,x,(x/tot)]\n",
        "          newLGBTList.append(r)\n",
        "\n",
        "dfLGBTFinal = pd.DataFrame(newLGBTList, columns = ['Location', 'Audience', 'Genre', 'Format', 'Category', 'Count','Percent'])"
      ],
      "metadata": {
        "id": "dezdYLbblZi3"
      },
      "execution_count": null,
      "outputs": []
    },
    {
      "cell_type": "code",
      "source": [
        "# Mental\n",
        "\n",
        "dfMental = dfFull[dfFull['Category'].str.contains(\"Mental\")]\n",
        "\n",
        "menList = dfMental['Category'].unique()\n",
        "\n",
        "newMenList = []\n",
        "\n",
        "for b in branchList:\n",
        "  df1 = dfMental.groupby('Location').get_group(b)[['Audience','Genre','Format','Category','Count']]\n",
        "  for a in audienceList:\n",
        "    df2 = df1.groupby('Audience').get_group(a)[['Genre','Format','Category','Count']]\n",
        "    for g in genreList:\n",
        "      df3 = df2.groupby('Genre').get_group(g)[['Format','Category','Count']]\n",
        "      for f in formatList:\n",
        "        df4 = df3.groupby('Format').get_group(f)[['Category','Count']]\n",
        "        tot = df4.loc[df4['Category'] == 'Unique Mental', 'Count'].item()\n",
        "        if tot == 0:\n",
        "          tot = 1\n",
        "        for c in menList:\n",
        "          df5 = df4.groupby('Category').get_group(c)['Count']\n",
        "          x = df5.iloc[0]\n",
        "          r = [b,a,g,f,c,x,(x/tot)]\n",
        "          newMenList.append(r)\n",
        "\n",
        "dfMentalFinal = pd.DataFrame(newMenList, columns = ['Location', 'Audience', 'Genre', 'Format', 'Category', 'Count','Percent'])"
      ],
      "metadata": {
        "id": "x9-S94HblzoV"
      },
      "execution_count": null,
      "outputs": []
    },
    {
      "cell_type": "code",
      "source": [
        "# Religion\n",
        "\n",
        "dfReligion = dfFull[dfFull['Category'].str.contains(\"Religion\")]\n",
        "\n",
        "relList = dfReligion['Category'].unique()\n",
        "\n",
        "newRelList = []\n",
        "\n",
        "for b in branchList:\n",
        "  df1 = dfReligion.groupby('Location').get_group(b)[['Audience','Genre','Format','Category','Count']]\n",
        "  for a in audienceList:\n",
        "    df2 = df1.groupby('Audience').get_group(a)[['Genre','Format','Category','Count']]\n",
        "    for g in genreList:\n",
        "      df3 = df2.groupby('Genre').get_group(g)[['Format','Category','Count']]\n",
        "      for f in formatList:\n",
        "        df4 = df3.groupby('Format').get_group(f)[['Category','Count']]\n",
        "        tot = df4.loc[df4['Category'] == 'Unique Religion', 'Count'].item()\n",
        "        if tot == 0:\n",
        "          tot = 1\n",
        "        for c in relList:\n",
        "          df5 = df4.groupby('Category').get_group(c)['Count']\n",
        "          x = df5.iloc[0]\n",
        "          r = [b,a,g,f,c,x,(x/tot)]\n",
        "          newRelList.append(r)\n",
        "\n",
        "dfReligionFinal = pd.DataFrame(newRelList, columns = ['Location', 'Audience', 'Genre', 'Format', 'Category', 'Count','Percent'])"
      ],
      "metadata": {
        "id": "uOwo7VgtmIpi"
      },
      "execution_count": null,
      "outputs": []
    },
    {
      "cell_type": "code",
      "source": [
        "# Violence\n",
        "\n",
        "dfViolence = dfFull[dfFull['Category'].str.contains(\"Violence\")]\n",
        "\n",
        "vioList = dfViolence['Category'].unique()\n",
        "\n",
        "newVioList = []\n",
        "\n",
        "for b in branchList:\n",
        "  df1 = dfViolence.groupby('Location').get_group(b)[['Audience','Genre','Format','Category','Count']]\n",
        "  for a in audienceList:\n",
        "    df2 = df1.groupby('Audience').get_group(a)[['Genre','Format','Category','Count']]\n",
        "    for g in genreList:\n",
        "      df3 = df2.groupby('Genre').get_group(g)[['Format','Category','Count']]\n",
        "      for f in formatList:\n",
        "        df4 = df3.groupby('Format').get_group(f)[['Category','Count']]\n",
        "        tot = df4.loc[df4['Category'] == 'Unique Violence', 'Count'].item()\n",
        "        if tot == 0:\n",
        "          tot = 1\n",
        "        for c in vioList:\n",
        "          df5 = df4.groupby('Category').get_group(c)['Count']\n",
        "          x = df5.iloc[0]\n",
        "          r = [b,a,g,f,c,x,(x/tot)]\n",
        "          newVioList.append(r)\n",
        "\n",
        "dfViolenceFinal = pd.DataFrame(newVioList, columns = ['Location', 'Audience', 'Genre', 'Format', 'Category', 'Count','Percent'])"
      ],
      "metadata": {
        "id": "M3KBxSkqmcN9"
      },
      "execution_count": null,
      "outputs": []
    },
    {
      "cell_type": "code",
      "source": [
        "framesPer = [dfAddictionFinal, dfCultureFinal, dfDisabilityFinal, dfEquityFinal, dfLGBTFinal, dfMentalFinal, dfReligionFinal, dfViolenceFinal]\n",
        "dfPer = pd.concat(framesPer, ignore_index=True)"
      ],
      "metadata": {
        "id": "rrjoWY1UnBgR"
      },
      "execution_count": null,
      "outputs": []
    },
    {
      "cell_type": "code",
      "source": [
        "dfPer.to_csv('drive/My Drive/Div Audit 11-10-22/percents_11-10-22.csv', index=False)"
      ],
      "metadata": {
        "id": "hqW5VXlKmz9l"
      },
      "execution_count": null,
      "outputs": []
    }
  ]
}