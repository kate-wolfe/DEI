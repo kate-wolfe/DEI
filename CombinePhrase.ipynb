{
  "nbformat": 4,
  "nbformat_minor": 0,
  "metadata": {
    "colab": {
      "provenance": [],
      "mount_file_id": "1y6K73Q3Cnr2zUmrkTWQP4xeMlO2cOZ-s",
      "authorship_tag": "ABX9TyNBHDWcAwrR7AY5/rtSoV5l",
      "include_colab_link": true
    },
    "kernelspec": {
      "name": "python3",
      "display_name": "Python 3"
    },
    "language_info": {
      "name": "python"
    }
  },
  "cells": [
    {
      "cell_type": "markdown",
      "metadata": {
        "id": "view-in-github",
        "colab_type": "text"
      },
      "source": [
        "<a href=\"https://colab.research.google.com/github/kate-wolfe/DEI/blob/main/CombinePhrase.ipynb\" target=\"_parent\"><img src=\"https://colab.research.google.com/assets/colab-badge.svg\" alt=\"Open In Colab\"/></a>"
      ]
    },
    {
      "cell_type": "code",
      "execution_count": null,
      "metadata": {
        "id": "RIeRZwOlBKQI"
      },
      "outputs": [],
      "source": [
        "import pandas as pd\n",
        "\n",
        "getFile = pd.read_csv('/content/drive/MyDrive/Div Audit 11-10-22/filename.csv', names=['a'], header=None)\n",
        "nameList = getFile['a'].tolist()\n",
        "\n",
        "for x in range(len(nameList)):\n",
        "    inputFile = pd.read_csv('drive/My Drive/Div Audit 11-10-22/' + nameList[x])\n",
        "    inputFile.to_csv('drive/My Drive/Div Audit 11-10-22/phraseALL_11-10-22.csv', mode='a', header=False, index=False)\n",
        "\n",
        "\n",
        "newFile = pd.read_csv('/content/drive/MyDrive/Div Audit 11-10-22/phraseALL_11-10-22.csv')\n",
        "headerList = ['id', 'record_id', 'record_type', 'record_num', 'occurrence', 'is_permuted', 'index_entry', 'original_content', 'insert_title']\n",
        "\n",
        "newFile.to_csv('drive/My Drive/Div Audit 11-10-22/phraseALL_11-10-22.csv', header=headerList, index=False)"
      ]
    }
  ]
}